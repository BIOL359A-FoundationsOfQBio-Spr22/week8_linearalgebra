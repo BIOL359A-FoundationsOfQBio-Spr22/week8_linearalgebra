{
 "cells": [
  {
   "cell_type": "markdown",
   "metadata": {},
   "source": [
    "# Biol 359A  | Linear Algebra\n",
    "### Spring 2022, Week 8\n",
    "<hr>\n",
    "\n",
    "Objectives:\n",
    "-  Intuition about matrix multiplication  \n",
    "-  Relationship between eigen vectors and types of matrices \n",
    "-  Introduce the covariance matrix \n",
    "\n"
   ]
  },
  {
   "cell_type": "code",
   "execution_count": null,
   "metadata": {},
   "outputs": [],
   "source": [
    "!pip install palmerpenguins"
   ]
  },
  {
   "cell_type": "code",
   "execution_count": null,
   "metadata": {},
   "outputs": [],
   "source": [
    "import pandas as pd\n",
    "import numpy as np\n",
    "import seaborn as sns \n",
    "import sklearn as sk\n",
    "import matplotlib as mpl\n",
    "import matplotlib.pyplot as plt\n",
    "import pylab as pl\n",
    "import ipywidgets as widgets\n",
    "from palmerpenguins import load_penguins\n",
    "\n",
    "%matplotlib inline\n",
    "\n",
    "def warn(*args, **kwargs):\n",
    "    pass\n",
    "import warnings\n",
    "warnings.warn = warn\n",
    "\n",
    "TITLE_FONT = 20\n",
    "LABEL_FONT = 16\n",
    "TICK_FONT = 16\n",
    "FIG_SIZE = (10,10)\n",
    "COLORS= [\"#008080\",\"#CA562C\"]\n",
    "\n",
    "sns.set(font_scale=1, rc={'figure.figsize':FIG_SIZE}) \n",
    "sns.set_style(\"white\",  {'axes.linewidth': 2, 'axes.edgecolor':'black'})\n",
    "plt.rc(\"axes.spines\", top=False, right=False)"
   ]
  },
  {
   "cell_type": "code",
   "execution_count": null,
   "metadata": {},
   "outputs": [],
   "source": [
    "def colorizer(x, y):\n",
    "    \"\"\"\n",
    "    Map x-y coordinates to a rgb color\n",
    "    \"\"\"\n",
    "    r = min(1, 1+y/3)\n",
    "    b = min(1, 1-y/3)\n",
    "    g = 1/4 + x/16\n",
    "    return (r, g, b)\n",
    "\n",
    "def gen_basic_plot(A, eigen=False):\n",
    "    xvals = np.linspace(-4, 4, 9)\n",
    "    yvals = np.linspace(-3, 3, 7)\n",
    "    xygrid = np.column_stack([[x, y] for x in xvals for y in yvals])\n",
    "\n",
    "    uvgrid = np.dot(A, xygrid)\n",
    "    # Map grid coordinates to colors\n",
    "    colors = list(map(colorizer, xygrid[0], xygrid[1]))\n",
    "\n",
    "    # Plot grid points \n",
    "    plt.scatter(xygrid[0], xygrid[1], s=40, c=colors, edgecolor=\"none\")\n",
    "    # Set axis limits\n",
    "    plt.grid(True)\n",
    "    plt.axis(\"equal\")\n",
    "    plt.title(\"Original Grid\")\n",
    "    if eigen:\n",
    "        eigen_values, eigen_vectors = np.linalg.eig(A)\n",
    "    \n",
    "        eig_vec1 = eigen_vectors[:,0]\n",
    "        eig_vec2 = eigen_vectors[:,1]\n",
    "        np.set_printoptions(precision=3)\n",
    "        print(f\"Eigen Vector: {eig_vec1} - Eigen Value: {eigen_values[0]:.2f}\")\n",
    "        print(f\"Eigen Vector: {eig_vec2} - Eigen Value: {eigen_values[1]:.2f}\")\n",
    "        origin = [0,0]\n",
    "        plt.quiver(*origin, *eig_vec1, color=['r'], scale=21)\n",
    "        plt.quiver(*origin, *eig_vec2, color=['b'], scale=21) \n",
    "\n",
    "\n",
    "    plt.show()\n",
    "    plt.scatter(uvgrid[0], uvgrid[1], s=40, c=colors, edgecolor=\"none\")\n",
    "    # Set axis limits\n",
    "    plt.grid(True)\n",
    "    plt.title(\"Transformed Grid\")\n",
    "    if eigen:\n",
    "        plt.quiver(*origin, *eig_vec1, color=['r'], scale=21)\n",
    "        plt.quiver(*origin, *eig_vec2, color=['b'], scale=21)\n",
    "    plt.axis(\"equal\")\n",
    "    plt.show()\n",
    "    \n",
    "\n",
    "def plot_wrapper(a=2,b=1,c=-1,d=1, eigen=False):\n",
    "    A = np.column_stack([[a, b], [c, d]])\n",
    "    gen_basic_plot(A, eigen=eigen)\n",
    "\n"
   ]
  },
  {
   "cell_type": "markdown",
   "metadata": {},
   "source": [
    "We are going to start with the following matrix:\n",
    "\n",
    "$$\\begin{bmatrix} 2 & 1 \\\\ -1 & 1 \\\\ \\end{bmatrix}$$\n",
    "\n",
    "(This matrix has no real eigen vectors)"
   ]
  },
  {
   "cell_type": "code",
   "execution_count": null,
   "metadata": {},
   "outputs": [],
   "source": [
    "plot_wrapper(a=2,b=1,c=-1,d=1, eigen=False)"
   ]
  },
  {
   "cell_type": "markdown",
   "metadata": {},
   "source": [
    "This matrix has real eigen vectors:\n",
    "\n",
    "$$\\begin{bmatrix} 5 & 1 \\\\ 4 & 2 \\\\ \\end{bmatrix}$$"
   ]
  },
  {
   "cell_type": "code",
   "execution_count": null,
   "metadata": {},
   "outputs": [],
   "source": [
    "plot_wrapper(a=5, b=1, c=4,d=2, eigen=True)"
   ]
  },
  {
   "cell_type": "markdown",
   "metadata": {},
   "source": [
    "This matrix has real and orthogonal eigenvectors:\n",
    "$$\\begin{bmatrix} 3 & 4 \\\\ 4 & 2 \\\\ \\end{bmatrix}$$"
   ]
  },
  {
   "cell_type": "code",
   "execution_count": null,
   "metadata": {},
   "outputs": [],
   "source": [
    "plot_wrapper(a=3, b=4, c=4,d=2, eigen=True)"
   ]
  },
  {
   "cell_type": "markdown",
   "metadata": {},
   "source": [
    "Introducing the Covariance Matrix:\n",
    "\n",
    "$$ var(x) = E[(x-\\mu_{x})^2] $$\n",
    "Recall when we defined the covariance:\n",
    "\n",
    "$$ cov(x,y) = E[x-\\mu_{x}]E[y-\\mu_{y}] $$\n",
    "\n",
    "So for example, If I had a data matrix, with N observations, and 3 features - a, b, and c - I will define my covariance matrix $\\Sigma$ as:\n",
    " \n",
    "$$ \\Sigma = \\begin{bmatrix} var(a) & cov(a,b) & cov(a,c)\\\\ cov(b,a) & var(b)& cov(b,c) \\\\ cov(c,a) & cov(c,b) & var(c) \\end{bmatrix}$$\n",
    "\n",
    "Which we usually estimate with:\n",
    "\n",
    "$$ \\frac{1}{N-1} XX^T = \\hat{\\Sigma} $$\n",
    "\n",
    "These matrices will be incredibly important next week."
   ]
  },
  {
   "cell_type": "code",
   "execution_count": null,
   "metadata": {},
   "outputs": [],
   "source": [
    "penguins=load_penguins()\n",
    "penguins.dropna(inplace=True)\n",
    "features=[\"bill_length_mm\", \"bill_depth_mm\", \"flipper_length_mm\",\"body_mass_g\"]\n",
    "penguins"
   ]
  },
  {
   "cell_type": "code",
   "execution_count": null,
   "metadata": {},
   "outputs": [],
   "source": [
    "penguins.describe()"
   ]
  },
  {
   "cell_type": "code",
   "execution_count": null,
   "metadata": {
    "scrolled": false
   },
   "outputs": [],
   "source": [
    "cov = np.cov(penguins[features], rowvar=False)\n",
    "sns.heatmap(cov, annot=True, fmt='.2f', xticklabels=features, yticklabels=features, cmap='YlGnBu')\n",
    "plt.show()"
   ]
  },
  {
   "cell_type": "code",
   "execution_count": null,
   "metadata": {},
   "outputs": [],
   "source": []
  }
 ],
 "metadata": {
  "kernelspec": {
   "display_name": "Python 3",
   "language": "python",
   "name": "python3"
  },
  "language_info": {
   "codemirror_mode": {
    "name": "ipython",
    "version": 3
   },
   "file_extension": ".py",
   "mimetype": "text/x-python",
   "name": "python",
   "nbconvert_exporter": "python",
   "pygments_lexer": "ipython3",
   "version": "3.9.0"
  }
 },
 "nbformat": 4,
 "nbformat_minor": 4
}
